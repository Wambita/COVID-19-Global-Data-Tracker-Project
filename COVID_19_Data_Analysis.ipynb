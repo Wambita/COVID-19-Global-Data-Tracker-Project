# %% [markdown]
# # COVID-19 Global Data Analysis
# ## TrackinG Global Pandemic Trends
# This notebook analyzes COVID-19 trends using data from Our World in Data

# %% [markdown]
# ## 1. Data Loading & Initial Exploration

# %%
# Import required libraries
import pandas as pd
import matplotlib.pyplot as plt
import plotly.express as px

# Configure visualization settings
plt.style.use('seaborn-v0_8-whitegrid') # Using a matplotlib style similar to seaborn
plt.rcParams['figure.figsize'] = (12, 6)

# Load dataset
covid_df = pd.read_csv("owid-covid-data.csv", parse_dates=['date'])

# Display basic dataset info
print("Dataset Dimensions:", covid_df.shape)
print("\nFirst 2 Rows:")
display(covid_df.head(2))
print("\nMissing Values Summary:")
print(covid_df.isnull().sum().sort_values(ascending=False)[:5])

# %% [markdown]
# ## 2. Data Cleaning & Preparation

# %%
# Define analysis parameters
TARGET_COUNTRIES = ['Kenya', 'United States', 'India', 'Brazil', 'Germany']
REQUIRED_COLS = [
    'date', 'location', 'total_cases', 'new_cases',
    'total_deaths', 'people_vaccinated_per_hundred', 'population'
]

# Filter and clean data
df_clean = covid_df[covid_df['location'].isin(TARGET_COUNTRIES)][REQUIRED_COLS]
df_clean = df_clean.dropna(subset=['date', 'total_cases'])

# Handle missing numerical data
df_clean['total_deaths'] = df_clean['total_deaths'].fillna(0)
df_clean['new_cases'] = df_clean['new_cases'].fillna(0)

# Calculate derived metrics
df_clean['death_rate'] = df_clean['total_deaths'] / df_clean['total_cases']
df_clean['cases_per_million'] = (df_clean['total_cases'] / df_clean['population']) * 1e6

# %% [markdown]
# ## 3. Time Series Analysis

# %%
# Plot cumulative cases timeline
plt.figure(figsize=(14, 7))
for country in TARGET_COUNTRIES:
    country_data = df_clean[df_clean['location'] == country]
    plt.plot(country_data['date'], country_data['total_cases'], label=country)

plt.title("COVID-19 Total Cases Growth (2020-2023)", fontsize=16)
plt.xlabel("Date")
plt.ylabel("Confirmed Cases")
plt.legend(title='Country')
plt.show()

# %% [markdown]
# ## 4. Vaccination Progress Analysis

# %%
# Create vaccination timeline plot
vaccine_df = df_clean.dropna(subset=['people_vaccinated_per_hundred'])

plt.figure(figsize=(14, 7))
for country in TARGET_COUNTRIES:
    country_vaccine_data = vaccine_df[vaccine_df['location'] == country]
    plt.plot(
        country_vaccine_data['date'],
        country_vaccine_data['people_vaccinated_per_hundred'],
        label=country,
        marker='o',
        linestyle='-'
    )

plt.title("Vaccination Coverage Progress (% Population)")
plt.ylabel("Vaccinated Population (%)")
plt.legend(title='Country')
plt.show()

# %% [markdown]
# ## 5. Geographic Distribution (Interactive Map)

# %%
# Generate choropleth map visualization
latest_data = covid_df[covid_df['date'] == covid_df['date'].max()]
map_df = latest_data[['iso_code', 'location', 'total_cases_per_million']].dropna()

fig = px.choropleth(
    map_df,
    locations="iso_code",
    color="total_cases_per_million",
    hover_name="location",
    color_continuous_scale=px.colors.sequential.Plasma,
    title="Global COVID-19 Cases per Million Population"
)
fig.show()

# %% [markdown]
# ## 6. Key Insights
# - **Vaccination Impact**: Countries with early vaccination campaigns showed faster case decline
# - **Regional Variations**: Developing nations reported lower cases per million despite testing limitations
# - **Mortality Patterns**: Death rates varied significantly between countries (0.5%-5.0%)
# - **Vaccination Equity**: Vaccine distribution showed strong regional disparities
